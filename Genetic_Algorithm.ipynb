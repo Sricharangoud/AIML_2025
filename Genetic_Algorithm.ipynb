{
  "cells": [
    {
      "cell_type": "markdown",
      "metadata": {
        "id": "view-in-github",
        "colab_type": "text"
      },
      "source": [
        "<a href=\"https://colab.research.google.com/github/ranjithdurgunala/AIML_2025/blob/main/Genetic_Algorithm.ipynb\" target=\"_parent\"><img src=\"https://colab.research.google.com/assets/colab-badge.svg\" alt=\"Open In Colab\"/></a>"
      ]
    },
    {
      "cell_type": "code",
      "execution_count": 1,
      "metadata": {
        "id": "gd305FzM0uNM"
      },
      "outputs": [],
      "source": [
        "import random\n",
        "\n",
        "POP_SIZE = 500\n",
        "MUT_RATE = 0.1\n",
        "TARGET = 'ranjith durgunala'\n",
        "GENES = ' abcdefghijklmnopqrstuvwxyz'"
      ]
    },
    {
      "cell_type": "code",
      "execution_count": 2,
      "metadata": {
        "id": "D-xyqUqB0tLl"
      },
      "outputs": [],
      "source": [
        "# Initialize Population\n",
        "def initialize_pop(TARGET):\n",
        "    population = list()\n",
        "    # tar_len is also called chromosome length\n",
        "    # each chromosome in a population will be of length len(TARGET)\n",
        "    tar_len = len(TARGET)\n",
        "\n",
        "    for i in range(POP_SIZE):\n",
        "        temp = list()\n",
        "        for j in range(tar_len):\n",
        "            temp.append(random.choice(GENES))\n",
        "        population.append(temp)\n",
        "\n",
        "    return population\n",
        "# population = [[random.choice(GENES) for _ in range(tar_len)] for _ in range(POP_SIZE)]"
      ]
    },
    {
      "cell_type": "code",
      "execution_count": 3,
      "metadata": {
        "id": "0GLhMs3i_vch"
      },
      "outputs": [],
      "source": [
        "# now we will produce offspring using crossover\n",
        "# 2 parents at random will be selected from the list selected_chromo\n",
        "# crossover point will be also random\n",
        "# produced child will be added to a list named offspring\n",
        "\n",
        "def crossover(selected_chromo, CHROMO_LEN, population):\n",
        "    offspring_cross = []\n",
        "    for i in range(int(POP_SIZE)):\n",
        "        parent1 = random.choice(selected_chromo)\n",
        "        parent2 = random.choice(population[:int(POP_SIZE*50)])\n",
        "\n",
        "        p1 = parent1[0]\n",
        "        p2 = parent2[0]\n",
        "\n",
        "        crossover_point = random.randint(1, CHROMO_LEN-1)\n",
        "        child =  p1[:crossover_point] + p2[crossover_point:]\n",
        "        # child2 = p2[:crossover_point] + p1[crossover_point:]\n",
        "        offspring_cross.extend([child])\n",
        "    return offspring_cross\n",
        "\n",
        "# crossover can be done anyway you like\n",
        "# we selected the parents and crossover point at random\n",
        "# then for child1, we set it to, parent1 from 0 to crossover point + parent2 from crossover to end\n",
        "# if p1 = a,b,c,d,e and p2 = v,w,x,y,z and\n",
        "# if crossover point = 3\n",
        "# child1 = abcyz\n",
        "# child2 = vwxde\n",
        "# Add a picture\n",
        "# offspring will contain both child1 and child2"
      ]
    },
    {
      "cell_type": "code",
      "execution_count": 4,
      "metadata": {
        "id": "eBl3clZC_vch"
      },
      "outputs": [],
      "source": [
        "# now mutate the children\n",
        "# means, change random genes from the chromosome to add diversity to the population\n",
        "\n",
        "def mutate(offspring, MUT_RATE):\n",
        "    mutated_offspring = []\n",
        "\n",
        "    for arr in offspring:\n",
        "        for i in range(len(arr)):\n",
        "            if random.random() < MUT_RATE:\n",
        "                arr[i] = random.choice(GENES)\n",
        "        mutated_offspring.append(arr)\n",
        "    return mutated_offspring\n",
        "\n",
        "# the offspring we had after crossover now has some genes changed"
      ]
    },
    {
      "cell_type": "code",
      "execution_count": 5,
      "metadata": {
        "id": "AIDVMqr11GB9"
      },
      "outputs": [],
      "source": [
        "def selection(population, TARGET):\n",
        "    # now we will sort chromo_pop accroding to the fitness\n",
        "    sorted_chromo_pop = sorted(population, key= lambda x: x[1])\n",
        "    # instead of lambda we could make a new function to extract the fitness of each chromosome\n",
        "    # we will return the top 50% of our population since they will help us reach the goal\n",
        "    return sorted_chromo_pop[:int(0.5*POP_SIZE)]"
      ]
    },
    {
      "cell_type": "code",
      "execution_count": 6,
      "metadata": {
        "id": "y6FFoC7704Io"
      },
      "outputs": [],
      "source": [
        "# Design a fitness function\n",
        "# this will be calculated for each chromosome in the population\n",
        "\n",
        "def fitness_cal(TARGET, chromo_from_pop):\n",
        "    difference = 0\n",
        "    for tar_char, chromo_char in zip(TARGET, chromo_from_pop):\n",
        "        if tar_char != chromo_char:\n",
        "            difference+=1\n",
        "\n",
        "    return [chromo_from_pop, difference]"
      ]
    },
    {
      "cell_type": "code",
      "execution_count": 7,
      "metadata": {
        "id": "YoF6stZ-_vci"
      },
      "outputs": [],
      "source": [
        "# Finally we will replace the less fit chromosomes in population with better chromosomes in the offspring\n",
        "\n",
        "def replace(new_gen, population):\n",
        "    for _ in range(len(population)):\n",
        "        if population[_][1] > new_gen[_][1]:\n",
        "          population[_][0] = new_gen[_][0]\n",
        "          population[_][1] = new_gen[_][1]\n",
        "    return population"
      ]
    },
    {
      "cell_type": "code",
      "execution_count": 9,
      "metadata": {
        "id": "QG9NH0sr_vci"
      },
      "outputs": [],
      "source": [
        "def main(POP_SIZE, MUT_RATE, TARGET, GENES):\n",
        "    # 1) initialize population\n",
        "    initial_population = initialize_pop(TARGET)\n",
        "    found = False\n",
        "    population = []\n",
        "    generation = 1\n",
        "\n",
        "    # 2) Calculating the fitness for the current population\n",
        "    for _ in range(len(initial_population)):\n",
        "        population.append(fitness_cal(TARGET, initial_population[_]))\n",
        "\n",
        "    # now population has 2 things, [chromosome, fitness]\n",
        "    # 3) now we loop until TARGET is found\n",
        "    while not found:\n",
        "\n",
        "      # 3.1) select best people from current population\n",
        "      selected = selection(population, TARGET)\n",
        "\n",
        "      # 3.2) mate parents to make new generation\n",
        "      population = sorted(population, key= lambda x:x[1])\n",
        "      crossovered = crossover(selected, len(TARGET), population)\n",
        "\n",
        "      # 3.3) mutating the childeren to diversfy the new generation\n",
        "      mutated = mutate(crossovered, MUT_RATE)\n",
        "\n",
        "      new_gen = []\n",
        "      for _ in mutated:\n",
        "          new_gen.append(fitness_cal(TARGET, _))\n",
        "\n",
        "      # 3.4) replacement of bad population with new generation\n",
        "      # we sort here first to compare the least fit population with the most fit new_gen\n",
        "\n",
        "      population = replace(new_gen, population)\n",
        "\n",
        "\n",
        "      if (population[0][1] == 0):\n",
        "        print('Target found')\n",
        "        print('String: ' + str(population[0][0]) + ' Generation: ' + str(generation) + ' Fitness: ' + str(population[0][1]))\n",
        "        break\n",
        "      print('String: ' + str(population[0][0]) + ' Generation: ' + str(generation) + ' Fitness: ' + str(population[0][1]))\n",
        "      generation+=1\n",
        "\n"
      ]
    },
    {
      "cell_type": "code",
      "execution_count": 10,
      "metadata": {
        "colab": {
          "base_uri": "https://localhost:8080/"
        },
        "id": "iWTleS11_vcj",
        "outputId": "4d623669-82bf-4969-8f31-34395637b7d3"
      },
      "outputs": [
        {
          "output_type": "stream",
          "name": "stdout",
          "text": [
            "String: ['n', 'f', 'y', 'i', 'e', 'h', 'x', 'q', 'd', 'u', 'z', 's', 'u', 'e', 'a', 'l', 'q'] Generation: 1 Fitness: 12\n",
            "String: ['n', 'f', 'y', 'i', 'e', 'h', 'x', 'q', 'd', 'u', 'z', 's', 'u', 'e', 'a', 'l', 'q'] Generation: 2 Fitness: 12\n",
            "String: ['j', 'q', 'x', ' ', 'i', 't', 'k', 's', 't', 's', 'r', 'z', 't', 'j', 'a', 'l', 'a'] Generation: 3 Fitness: 11\n",
            "String: ['j', 'q', 'x', ' ', 'i', 't', 'k', 's', 't', 's', 'r', 'z', 't', 'j', 'a', 'l', 'a'] Generation: 4 Fitness: 11\n",
            "String: ['j', 'q', 'x', ' ', 'i', 't', 'k', 's', 't', 's', 'r', 'z', 't', 'j', 'a', 'l', 'a'] Generation: 5 Fitness: 11\n",
            "String: ['j', 'q', 'x', ' ', 'i', 't', 'k', 's', 't', 's', 'r', 'z', 't', 'j', 'a', 'l', 'a'] Generation: 6 Fitness: 11\n",
            "String: ['f', 'x', 'n', 'y', 'i', 'a', 'h', 'b', 'z', 'n', 'r', 'z', 't', 'j', 'a', 'l', 'a'] Generation: 7 Fitness: 10\n",
            "String: ['a', 'a', 'n', 'j', 'i', 'v', 'h', 's', 'c', 'u', 'v', 'q', 'e', 'j', 'a', 'l', ' '] Generation: 8 Fitness: 9\n",
            "String: ['a', 'a', 'n', 'j', 'i', 'v', 'h', 's', 'c', 'u', 'v', 'q', 'e', 'j', 'a', 'l', ' '] Generation: 9 Fitness: 9\n",
            "String: ['r', 'l', 'n', 'v', 'i', 'm', 'x', 'q', 'd', 'u', 'r', 'z', 't', 'j', 'a', 'l', 'a'] Generation: 10 Fitness: 8\n",
            "String: ['r', 'l', 'n', 'v', 'i', 'm', 'x', 'q', 'd', 'u', 'r', 'z', 't', 'j', 'a', 'l', 'a'] Generation: 11 Fitness: 8\n",
            "String: ['r', 'a', 'n', 'j', 'g', 'e', 'h', 'n', 'h', 's', 'r', 'g', 'u', 'e', 'a', 'l', 'j'] Generation: 12 Fitness: 7\n",
            "String: ['r', 'a', 'n', 'j', 'g', 'e', 'h', 'n', 'h', 's', 'r', 'g', 'u', 'e', 'a', 'l', 'j'] Generation: 13 Fitness: 7\n",
            "String: ['r', 'a', 'n', 'j', 'i', 't', 'k', 'd', 'd', 'u', 'e', 'g', 'u', 'l', ' ', 'l', 'a'] Generation: 14 Fitness: 5\n",
            "String: ['r', 'a', 'n', 'j', 'i', 't', 'k', 'd', 'd', 'u', 'e', 'g', 'u', 'l', ' ', 'l', 'a'] Generation: 15 Fitness: 5\n",
            "String: ['r', 'a', 'n', 'j', 'g', 'e', 'h', ' ', 'd', 'u', 'r', 'g', 'j', 'o', 'a', 'l', 'a'] Generation: 16 Fitness: 4\n",
            "String: ['r', 'a', 'n', 'j', 'g', 'e', 'h', ' ', 'd', 'u', 'r', 'g', 'j', 'o', 'a', 'l', 'a'] Generation: 17 Fitness: 4\n",
            "String: ['r', 'a', 'n', 'j', 'g', 'e', 'h', ' ', 'd', 'u', 'r', 'g', 'j', 'o', 'a', 'l', 'a'] Generation: 18 Fitness: 4\n",
            "String: ['r', 'a', 'n', 'j', 'g', 'e', 'h', ' ', 'd', 'u', 'r', 'g', 'j', 'o', 'a', 'l', 'a'] Generation: 19 Fitness: 4\n",
            "String: ['r', 'a', 'n', 'j', 'g', 'e', 'h', ' ', 'd', 'u', 'r', 'g', 'j', 'o', 'a', 'l', 'a'] Generation: 20 Fitness: 4\n",
            "String: ['b', 'a', 'n', 'v', 'i', 't', 'h', 'd', 'd', 'u', 'r', 'g', 'u', 'n', 'a', 'l', 'a'] Generation: 21 Fitness: 3\n",
            "String: ['r', 'a', 'n', 'j', 'w', 't', 'h', ' ', 'd', 'u', 'd', 'g', 'u', 'n', 'a', 'l', 'a'] Generation: 22 Fitness: 2\n",
            "String: ['r', 'a', 'n', 'j', 'w', 't', 'h', ' ', 'd', 'u', 'd', 'g', 'u', 'n', 'a', 'l', 'a'] Generation: 23 Fitness: 2\n",
            "String: ['r', 'a', 'n', 'j', 'w', 't', 'h', ' ', 'd', 'u', 'd', 'g', 'u', 'n', 'a', 'l', 'a'] Generation: 24 Fitness: 2\n",
            "String: ['r', 'a', 'n', 'j', 'w', 't', 'h', ' ', 'd', 'u', 'd', 'g', 'u', 'n', 'a', 'l', 'a'] Generation: 25 Fitness: 2\n",
            "String: ['r', 'a', 'n', 'j', 'w', 't', 'h', ' ', 'd', 'u', 'd', 'g', 'u', 'n', 'a', 'l', 'a'] Generation: 26 Fitness: 2\n",
            "String: ['r', 'a', 'n', 'j', 'i', 't', 'h', ' ', 't', 'u', 'r', 'g', 'u', 'n', 'a', 'l', 'a'] Generation: 27 Fitness: 1\n",
            "String: ['r', 'a', 'n', 'j', 'i', 't', 'h', ' ', 't', 'u', 'r', 'g', 'u', 'n', 'a', 'l', 'a'] Generation: 28 Fitness: 1\n",
            "String: ['r', 'a', 'n', 'j', 'i', 't', 'h', ' ', 't', 'u', 'r', 'g', 'u', 'n', 'a', 'l', 'a'] Generation: 29 Fitness: 1\n",
            "String: ['r', 'a', 'n', 'j', 'i', 't', 'h', ' ', 't', 'u', 'r', 'g', 'u', 'n', 'a', 'l', 'a'] Generation: 30 Fitness: 1\n",
            "String: ['r', 'a', 'n', 'j', 'i', 't', 'h', ' ', 't', 'u', 'r', 'g', 'u', 'n', 'a', 'l', 'a'] Generation: 31 Fitness: 1\n",
            "Target found\n",
            "String: ['r', 'a', 'n', 'j', 'i', 't', 'h', ' ', 'd', 'u', 'r', 'g', 'u', 'n', 'a', 'l', 'a'] Generation: 32 Fitness: 0\n"
          ]
        }
      ],
      "source": [
        "main(POP_SIZE, MUT_RATE, TARGET, GENES)"
      ]
    }
  ],
  "metadata": {
    "colab": {
      "provenance": [],
      "include_colab_link": true
    },
    "kernelspec": {
      "display_name": "Python 3",
      "language": "python",
      "name": "python3"
    },
    "language_info": {
      "codemirror_mode": {
        "name": "ipython",
        "version": 3
      },
      "file_extension": ".py",
      "mimetype": "text/x-python",
      "name": "python",
      "nbconvert_exporter": "python",
      "pygments_lexer": "ipython3",
      "version": "3.11.2"
    }
  },
  "nbformat": 4,
  "nbformat_minor": 0
}